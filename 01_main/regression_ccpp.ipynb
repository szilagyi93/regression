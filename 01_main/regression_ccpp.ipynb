{
 "cells": [
  {
   "cell_type": "markdown",
   "metadata": {},
   "source": [
    "A regression model going to be fit in this short project based on a data set of a complex cycle power plant (CCPP)"
   ]
  },
  {
   "cell_type": "markdown",
   "metadata": {},
   "source": [
    "Importing the necessary packeages."
   ]
  },
  {
   "cell_type": "code",
   "execution_count": 1,
   "metadata": {},
   "outputs": [],
   "source": [
    "import os\n",
    "import pandas as pd\n",
    "import numpy as np\n"
   ]
  },
  {
   "cell_type": "markdown",
   "metadata": {},
   "source": [
    "Data will be stored in pandas data frame. </br>\n",
    "Because the data are stored in an excel table lets load the available datas by .read_excel() method.</br>"
   ]
  },
  {
   "cell_type": "code",
   "execution_count": 2,
   "metadata": {},
   "outputs": [
    {
     "name": "stdout",
     "output_type": "stream",
     "text": [
      "Current working directory: c:\\basic_projects\\AI_kurzus\\beadando\\01_regression_model\\01_main\n",
      "(8568, 5)\n",
      "(1000, 5)\n"
     ]
    }
   ],
   "source": [
    "# Get the current working directory\n",
    "cwd = os.getcwd()\n",
    "print(\"Current working directory:\", cwd)\n",
    "pd_train = pd.read_excel(r'02_data/Train.xlsx')\n",
    "pd_test = pd.read_excel(r'02_data/Test.xlsx')\n",
    "print(pd_train.shape)\n",
    "print(pd_test.shape)"
   ]
  },
  {
   "cell_type": "markdown",
   "metadata": {},
   "source": [
    "Lets concentrate on the pd_train data and chek the by neked I a littel bit. </br>\n",
    "We can wacth the first few lines of data by   .head() method."
   ]
  },
  {
   "cell_type": "code",
   "execution_count": 3,
   "metadata": {},
   "outputs": [
    {
     "data": {
      "text/html": [
       "<div>\n",
       "<style scoped>\n",
       "    .dataframe tbody tr th:only-of-type {\n",
       "        vertical-align: middle;\n",
       "    }\n",
       "\n",
       "    .dataframe tbody tr th {\n",
       "        vertical-align: top;\n",
       "    }\n",
       "\n",
       "    .dataframe thead th {\n",
       "        text-align: right;\n",
       "    }\n",
       "</style>\n",
       "<table border=\"1\" class=\"dataframe\">\n",
       "  <thead>\n",
       "    <tr style=\"text-align: right;\">\n",
       "      <th></th>\n",
       "      <th>AT</th>\n",
       "      <th>V</th>\n",
       "      <th>AP</th>\n",
       "      <th>RH</th>\n",
       "      <th>PE</th>\n",
       "    </tr>\n",
       "  </thead>\n",
       "  <tbody>\n",
       "    <tr>\n",
       "      <th>0</th>\n",
       "      <td>10.54</td>\n",
       "      <td>34.03</td>\n",
       "      <td>1018.71</td>\n",
       "      <td>74.00</td>\n",
       "      <td>478.77</td>\n",
       "    </tr>\n",
       "    <tr>\n",
       "      <th>1</th>\n",
       "      <td>7.08</td>\n",
       "      <td>39.99</td>\n",
       "      <td>1010.55</td>\n",
       "      <td>91.44</td>\n",
       "      <td>482.83</td>\n",
       "    </tr>\n",
       "    <tr>\n",
       "      <th>2</th>\n",
       "      <td>14.49</td>\n",
       "      <td>41.16</td>\n",
       "      <td>1000.50</td>\n",
       "      <td>82.17</td>\n",
       "      <td>465.24</td>\n",
       "    </tr>\n",
       "    <tr>\n",
       "      <th>3</th>\n",
       "      <td>10.73</td>\n",
       "      <td>25.36</td>\n",
       "      <td>1009.35</td>\n",
       "      <td>100.15</td>\n",
       "      <td>469.43</td>\n",
       "    </tr>\n",
       "    <tr>\n",
       "      <th>4</th>\n",
       "      <td>22.88</td>\n",
       "      <td>63.91</td>\n",
       "      <td>1009.63</td>\n",
       "      <td>87.82</td>\n",
       "      <td>442.50</td>\n",
       "    </tr>\n",
       "  </tbody>\n",
       "</table>\n",
       "</div>"
      ],
      "text/plain": [
       "      AT      V       AP      RH      PE\n",
       "0  10.54  34.03  1018.71   74.00  478.77\n",
       "1   7.08  39.99  1010.55   91.44  482.83\n",
       "2  14.49  41.16  1000.50   82.17  465.24\n",
       "3  10.73  25.36  1009.35  100.15  469.43\n",
       "4  22.88  63.91  1009.63   87.82  442.50"
      ]
     },
     "execution_count": 3,
     "metadata": {},
     "output_type": "execute_result"
    }
   ],
   "source": [
    "pd_train.head()\n"
   ]
  },
  {
   "cell_type": "code",
   "execution_count": 4,
   "metadata": {},
   "outputs": [
    {
     "name": "stdout",
     "output_type": "stream",
     "text": [
      "<class 'pandas.core.frame.DataFrame'>\n",
      "RangeIndex: 8568 entries, 0 to 8567\n",
      "Data columns (total 5 columns):\n",
      " #   Column  Non-Null Count  Dtype  \n",
      "---  ------  --------------  -----  \n",
      " 0   AT      8568 non-null   float64\n",
      " 1   V       8568 non-null   float64\n",
      " 2   AP      8568 non-null   float64\n",
      " 3   RH      8568 non-null   float64\n",
      " 4   PE      8568 non-null   float64\n",
      "dtypes: float64(5)\n",
      "memory usage: 334.8 KB\n"
     ]
    }
   ],
   "source": [
    "pd_train.info()"
   ]
  },
  {
   "cell_type": "code",
   "execution_count": null,
   "metadata": {},
   "outputs": [],
   "source": []
  },
  {
   "cell_type": "markdown",
   "metadata": {},
   "source": [
    "Empty rows"
   ]
  },
  {
   "cell_type": "code",
   "execution_count": 5,
   "metadata": {},
   "outputs": [
    {
     "data": {
      "text/plain": [
       "False"
      ]
     },
     "execution_count": 5,
     "metadata": {},
     "output_type": "execute_result"
    }
   ],
   "source": [
    "pd_train.empty"
   ]
  }
 ],
 "metadata": {
  "kernelspec": {
   "display_name": "Python 3",
   "language": "python",
   "name": "python3"
  },
  "language_info": {
   "codemirror_mode": {
    "name": "ipython",
    "version": 3
   },
   "file_extension": ".py",
   "mimetype": "text/x-python",
   "name": "python",
   "nbconvert_exporter": "python",
   "pygments_lexer": "ipython3",
   "version": "3.12.2"
  }
 },
 "nbformat": 4,
 "nbformat_minor": 2
}
